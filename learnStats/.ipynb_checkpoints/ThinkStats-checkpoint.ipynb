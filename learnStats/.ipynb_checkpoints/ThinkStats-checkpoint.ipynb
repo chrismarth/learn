{
 "metadata": {
  "name": "",
  "signature": "sha256:ec9167050d3c35122af905a6db0b7f57018aadb1d16ee39536208b107523a517"
 },
 "nbformat": 3,
 "nbformat_minor": 0,
 "worksheets": [
  {
   "cells": [
    {
     "cell_type": "heading",
     "level": 1,
     "metadata": {},
     "source": [
      "ThinkStats Notes"
     ]
    },
    {
     "cell_type": "heading",
     "level": 2,
     "metadata": {},
     "source": [
      "Terms"
     ]
    },
    {
     "cell_type": "markdown",
     "metadata": {},
     "source": [
      "- Cross-Sectional Study - Capture a snapshot of a group at a given point in time\n",
      "- Logitudinal Study - Observe a group repeatedly over a period of time\n",
      "- Population - The group we are studying\n",
      "- Respondents - Participants in a survey\n",
      "- Cohort - A group of respondents\n",
      "- Representative - A population that is consistent with the larger population\n",
      "- Oversampled - Selecting a population that is not representative\n",
      "- Apparent Effect - Something may be significant but it requires more analysis\n",
      "- Summary Statistics - Average, median, variance\n",
      "- Statistical Significance - Is observed difference merely random?\n",
      "- Artifact - The observed behavior is due to an error in the experimental setup\n"
     ]
    },
    {
     "cell_type": "heading",
     "level": 2,
     "metadata": {},
     "source": [
      "Chapter 1"
     ]
    },
    {
     "cell_type": "code",
     "collapsed": false,
     "input": [
      "import survey\n",
      "import thinkstats\n",
      "import numpy\n",
      "import scipy.stats"
     ],
     "language": "python",
     "metadata": {},
     "outputs": [],
     "prompt_number": 20
    },
    {
     "cell_type": "code",
     "collapsed": false,
     "input": [
      "table = survey.Pregnancies()\n",
      "table.ReadRecords()\n",
      "print 'Number of pregnancies:', len(table.records)"
     ],
     "language": "python",
     "metadata": {},
     "outputs": [
      {
       "output_type": "stream",
       "stream": "stdout",
       "text": [
        "Number of pregnancies: 13593\n"
       ]
      }
     ],
     "prompt_number": 2
    },
    {
     "cell_type": "code",
     "collapsed": false,
     "input": [
      "liveBirths = [record for record in table.records if record.outcome == 1]\n",
      "print 'Number of live births:', len(liveBirths)"
     ],
     "language": "python",
     "metadata": {},
     "outputs": [
      {
       "output_type": "stream",
       "stream": "stdout",
       "text": [
        "Number of live births: 9148\n"
       ]
      }
     ],
     "prompt_number": 3
    },
    {
     "cell_type": "code",
     "collapsed": false,
     "input": [
      "firstBabies = [record for record in liveBirths if record.birthord == 1]\n",
      "print 'Number of first babies:', len(firstBabies)\n",
      "firstBabiesPregLength = numpy.asarray([record.prglength for record in firstBabies])\n",
      "print 'Avg pregnancy length for first babies', numpy.average(firstBabiesPregLength)\n"
     ],
     "language": "python",
     "metadata": {},
     "outputs": [
      {
       "output_type": "stream",
       "stream": "stdout",
       "text": [
        "Number of first babies: 4413\n",
        "Avg pregnancy length for first babies 38.6009517335\n"
       ]
      }
     ],
     "prompt_number": 4
    },
    {
     "cell_type": "code",
     "collapsed": false,
     "input": [
      "#notFirstBabies = [record for record in liveBirths if record.birthord != 1]\n",
      "notFirstBabies = list(set(liveBirths) - set(firstBabies))\n",
      "print 'Number of not first babies:', len(notFirstBabies)\n",
      "notFirstBabiesPregLength = numpy.asarray([record.prglength for record in notFirstBabies])\n",
      "print 'Avg pregnancy length for first babies', numpy.average(notFirstBabiesPregLength)\n"
     ],
     "language": "python",
     "metadata": {},
     "outputs": [
      {
       "output_type": "stream",
       "stream": "stdout",
       "text": [
        "Number of not first babies: 4735\n",
        "Avg pregnancy length for first babies 38.5229144667\n"
       ]
      }
     ],
     "prompt_number": 5
    },
    {
     "cell_type": "code",
     "collapsed": false,
     "input": [
      "numberHoursDifference = (numpy.average(firstBabiesPregLength) - numpy.average(notFirstBabiesPregLength))*7*24"
     ],
     "language": "python",
     "metadata": {},
     "outputs": [],
     "prompt_number": 6
    },
    {
     "cell_type": "code",
     "collapsed": false,
     "input": [
      "numberHoursDifference"
     ],
     "language": "python",
     "metadata": {},
     "outputs": [
      {
       "metadata": {},
       "output_type": "pyout",
       "prompt_number": 7,
       "text": [
        "13.110260818628319"
       ]
      }
     ],
     "prompt_number": 7
    },
    {
     "cell_type": "heading",
     "level": 2,
     "metadata": {},
     "source": [
      "Chapter 2"
     ]
    },
    {
     "cell_type": "code",
     "collapsed": false,
     "input": [
      "pumpkins = numpy.asarray([1,1,1,3,3,591])"
     ],
     "language": "python",
     "metadata": {},
     "outputs": [],
     "prompt_number": 8
    },
    {
     "cell_type": "code",
     "collapsed": false,
     "input": [
      "avgPumpkin = numpy.average(pumpkins)"
     ],
     "language": "python",
     "metadata": {},
     "outputs": [],
     "prompt_number": 9
    },
    {
     "cell_type": "code",
     "collapsed": false,
     "input": [
      "stdPumpkins = numpy.std(pumpkins)"
     ],
     "language": "python",
     "metadata": {},
     "outputs": [],
     "prompt_number": 10
    },
    {
     "cell_type": "code",
     "collapsed": false,
     "input": [
      "varPumpkins = numpy.var(pumpkins)"
     ],
     "language": "python",
     "metadata": {},
     "outputs": [],
     "prompt_number": 11
    },
    {
     "cell_type": "code",
     "collapsed": false,
     "input": [
      "print \"Avg Pumpkin:\", avgPumpkin\n",
      "print \"Variance Pumpkin:\", varPumpkins\n",
      "print \"Std Dev. Pumpkin:\", stdPumpkins\n"
     ],
     "language": "python",
     "metadata": {},
     "outputs": [
      {
       "output_type": "stream",
       "stream": "stdout",
       "text": [
        "Avg Pumpkin: 100.0\n",
        "Variance Pumpkin: 48217.0\n",
        "Std Dev. Pumpkin: 219.583697027\n"
       ]
      }
     ],
     "prompt_number": 12
    },
    {
     "cell_type": "code",
     "collapsed": false,
     "input": [
      "avgFirstBabiesPregLength = numpy.average(firstBabiesPregLength)"
     ],
     "language": "python",
     "metadata": {},
     "outputs": [],
     "prompt_number": 13
    },
    {
     "cell_type": "code",
     "collapsed": false,
     "input": [
      "stdFirstBabiesPregLength = numpy.std(firstBabiesPregLength)"
     ],
     "language": "python",
     "metadata": {},
     "outputs": [],
     "prompt_number": 14
    },
    {
     "cell_type": "code",
     "collapsed": false,
     "input": [
      "avgNotFirstBabiesPregLength = numpy.average(notFirstBabiesPregLength)"
     ],
     "language": "python",
     "metadata": {},
     "outputs": [],
     "prompt_number": 15
    },
    {
     "cell_type": "code",
     "collapsed": false,
     "input": [
      "stdNotFirstBabiesPregLength = numpy.std(notFirstBabiesPregLength)"
     ],
     "language": "python",
     "metadata": {},
     "outputs": [],
     "prompt_number": 16
    },
    {
     "cell_type": "code",
     "collapsed": false,
     "input": [
      "avgDiff = avgFirstBabiesPregLength - avgNotFirstBabiesPregLength"
     ],
     "language": "python",
     "metadata": {},
     "outputs": [],
     "prompt_number": 17
    },
    {
     "cell_type": "code",
     "collapsed": false,
     "input": [
      "stdDiff = stdFirstBabiesPregLength - stdNotFirstBabiesPregLength"
     ],
     "language": "python",
     "metadata": {},
     "outputs": [],
     "prompt_number": 18
    },
    {
     "cell_type": "code",
     "collapsed": false,
     "input": [
      "print \"Avg first baby pregnancy length:\", avgFirstBabiesPregLength\n",
      "print \"Avg not first baby pregnancy length:\", avgNotFirstBabiesPregLength\n",
      "print \"Avg difference:\", avgDiff\n",
      "print \"Std Dev. first baby pregnancy length:\", stdFirstBabiesPregLength\n",
      "print \"Std Dev. not first baby pregnancy length:\", stdNotFirstBabiesPregLength\n",
      "print \"Std Dev. difference:\", stdDiff"
     ],
     "language": "python",
     "metadata": {},
     "outputs": [
      {
       "output_type": "stream",
       "stream": "stdout",
       "text": [
        "Avg first baby pregnancy length: 38.6009517335\n",
        "Avg not first baby pregnancy length: 38.5229144667\n",
        "Avg difference: 0.0780372667775\n",
        "Std Dev. first baby pregnancy length: 2.79158506982\n",
        "Std Dev. not first baby pregnancy length: 2.61557611068\n",
        "Std Dev. difference: 0.17600895914\n"
       ]
      }
     ],
     "prompt_number": 19
    },
    {
     "cell_type": "code",
     "collapsed": false,
     "input": [
      "scipy.stats.mode([1,1,1,2,3,6,7])"
     ],
     "language": "python",
     "metadata": {},
     "outputs": [
      {
       "metadata": {},
       "output_type": "pyout",
       "prompt_number": 24,
       "text": [
        "(array([ 1.]), array([ 3.]))"
       ]
      }
     ],
     "prompt_number": 24
    },
    {
     "cell_type": "code",
     "collapsed": false,
     "input": [
      "%matplotlib inline"
     ],
     "language": "python",
     "metadata": {},
     "outputs": [],
     "prompt_number": 25
    },
    {
     "cell_type": "code",
     "collapsed": false,
     "input": [
      "import matplotlib.pyplot as plt"
     ],
     "language": "python",
     "metadata": {},
     "outputs": [],
     "prompt_number": 26
    },
    {
     "cell_type": "code",
     "collapsed": false,
     "input": [
      "plt.pie([1,2,3])"
     ],
     "language": "python",
     "metadata": {},
     "outputs": [
      {
       "metadata": {},
       "output_type": "pyout",
       "prompt_number": 27,
       "text": [
        "([<matplotlib.patches.Wedge at 0x4535550>,\n",
        "  <matplotlib.patches.Wedge at 0x4535f10>,\n",
        "  <matplotlib.patches.Wedge at 0x45378d0>],\n",
        " [<matplotlib.text.Text at 0x4535b10>,\n",
        "  <matplotlib.text.Text at 0x4537510>,\n",
        "  <matplotlib.text.Text at 0x4537e90>])"
       ]
      },
      {
       "metadata": {},
       "output_type": "display_data",
       "png": "[encoded data removed]",
       "text": [
        "<matplotlib.figure.Figure at 0x43c8ed0>"
       ]
      }
     ],
     "prompt_number": 27
    },
    {
     "cell_type": "code",
     "collapsed": false,
     "input": [
      "plt.hist(firstBabiesPregLength)"
     ],
     "language": "python",
     "metadata": {},
     "outputs": [
      {
       "metadata": {},
       "output_type": "pyout",
       "prompt_number": 31,
       "text": [
        "(array([  1.00000000e+00,   0.00000000e+00,   0.00000000e+00,\n",
        "          1.00000000e+00,   6.00000000e+00,   4.90000000e+01,\n",
        "          1.80000000e+02,   8.40000000e+02,   3.30200000e+03,\n",
        "          3.40000000e+01]),\n",
        " array([  0. ,   4.8,   9.6,  14.4,  19.2,  24. ,  28.8,  33.6,  38.4,\n",
        "         43.2,  48. ]),\n",
        " <a list of 10 Patch objects>)"
       ]
      },
      {
       "metadata": {},
       "output_type": "display_data",
       "png": "[encoded data removed]",
       "text": [
        "<matplotlib.figure.Figure at 0x4a51990>"
       ]
      }
     ],
     "prompt_number": 31
    },
    {
     "cell_type": "code",
     "collapsed": false,
     "input": [],
     "language": "python",
     "metadata": {},
     "outputs": []
    }
   ],
   "metadata": {}
  }
 ]
}